{
  "nbformat": 4,
  "nbformat_minor": 0,
  "metadata": {
    "colab": {
      "provenance": []
    },
    "kernelspec": {
      "name": "python3",
      "display_name": "Python 3"
    },
    "language_info": {
      "name": "python"
    }
  },
  "cells": [
    {
      "cell_type": "code",
      "execution_count": null,
      "metadata": {
        "id": "a_DwCz_QAyK6"
      },
      "outputs": [],
      "source": [
        "# innstall java\n",
        "!apt-get install openjdk-8-jdk-headless -qq > /dev/null\n",
        "\n",
        "# install spark (change the version number if needed)\n",
        "!wget -q https://archive.apache.org/dist/spark/spark-3.0.0/spark-3.0.0-bin-hadoop3.2.tgz\n",
        "\n",
        "# unzip the spark file to the current folder\n",
        "!tar xf spark-3.0.0-bin-hadoop3.2.tgz\n",
        "\n",
        "# set your spark folder to your system path environment. \n",
        "import os\n",
        "os.environ[\"JAVA_HOME\"] = \"/usr/lib/jvm/java-8-openjdk-amd64\"\n",
        "os.environ[\"SPARK_HOME\"] = \"/content/spark-3.0.0-bin-hadoop3.2\"\n",
        "\n",
        "\n",
        "# install findspark using pip\n",
        "!pip install -q findspark"
      ]
    },
    {
      "cell_type": "code",
      "source": [
        "import findspark\n",
        "findspark.init()\n",
        "from pyspark.sql import SparkSession\n",
        "spark = SparkSession.builder.master(\"local[*]\").getOrCreate()"
      ],
      "metadata": {
        "id": "lT_lYKLUBs01"
      },
      "execution_count": null,
      "outputs": []
    },
    {
      "cell_type": "code",
      "source": [
        "import pandas as pd"
      ],
      "metadata": {
        "id": "PWwp0sHDIMp4"
      },
      "execution_count": null,
      "outputs": []
    },
    {
      "cell_type": "code",
      "source": [
        "from google.colab import files\n",
        "files.upload()"
      ],
      "metadata": {
        "id": "9ajFxmy6BxBd"
      },
      "execution_count": null,
      "outputs": []
    },
    {
      "cell_type": "code",
      "source": [
        "gss = spark.read.csv('Global.csv',inferSchema=True, header=True)"
      ],
      "metadata": {
        "id": "rDCr74fvCoMX"
      },
      "execution_count": null,
      "outputs": []
    },
    {
      "cell_type": "code",
      "source": [
        "gss = gss.drop(\"Postal Code\")"
      ],
      "metadata": {
        "id": "8v_UZvIbEXaw"
      },
      "execution_count": null,
      "outputs": []
    },
    {
      "cell_type": "code",
      "source": [
        "gss = gss.na.drop()"
      ],
      "metadata": {
        "id": "YKVgAtRqFCh4"
      },
      "execution_count": null,
      "outputs": []
    },
    {
      "cell_type": "code",
      "source": [
        "from pyspark.ml.feature import VectorAssembler\n",
        "from pyspark.sql.types import IntegerType\n",
        "from pyspark.sql.functions import col\n",
        "from pyspark.sql.types import DateType"
      ],
      "metadata": {
        "id": "IXb4w4tzFMrs"
      },
      "execution_count": null,
      "outputs": []
    },
    {
      "cell_type": "code",
      "source": [
        "gss = gss.withColumn(\"Sales\",col(\"Sales\").cast(\"double\"))"
      ],
      "metadata": {
        "id": "7G37jtKeDdsc"
      },
      "execution_count": null,
      "outputs": []
    },
    {
      "cell_type": "code",
      "source": [
        "gss_profit = gss.filter(gss.Profit > 0)\n",
        "gss_loss = gss.filter(gss.Profit < 0)"
      ],
      "metadata": {
        "id": "KW69czycF6Sk"
      },
      "execution_count": null,
      "outputs": []
    },
    {
      "cell_type": "code",
      "source": [
        "gss_profit = gss_profit.select(\"Profit\",\"Sales\")\n",
        "gss_profit = gss_profit.na.drop()\n",
        "gss_loss = gss_loss.na.drop()"
      ],
      "metadata": {
        "id": "JRpwRRJQEyj8"
      },
      "execution_count": null,
      "outputs": []
    },
    {
      "cell_type": "code",
      "source": [
        "gss = gss.select(\"Sales\",\"Profit\")\n",
        "gss = gss.withColumn(\"Sales\",col(\"Sales\").cast(\"double\"))\n",
        "gss = gss.withColumn(\"Quantity\",col(\"Quantity\").cast(\"double\"))\n",
        "gss = gss.withColumn(\"Shipping Cost\",col(\"Shipping Cost\").cast(\"double\"))\n",
        "gss = gss.withColumn(\"Discount\",col(\"Discount\").cast(\"double\"))\n",
        "gss = gss.withColumn(\"Profit\",col(\"Profit\").cast(\"double\"))"
      ],
      "metadata": {
        "id": "ULwj_PIDnNvc"
      },
      "execution_count": null,
      "outputs": []
    },
    {
      "cell_type": "code",
      "source": [
        "\n",
        "assemble=VectorAssembler(inputCols=['Profit','Sales'],outputCol='features')    #,'Discount','Quantity','Shipping Cost'], outputCol='features')\n"
      ],
      "metadata": {
        "id": "MNwpgvmInPlM"
      },
      "execution_count": null,
      "outputs": []
    },
    {
      "cell_type": "code",
      "source": [
        "asd = assemble.transform(gss_profit)\n",
        "asd.show(5)\n"
      ],
      "metadata": {
        "colab": {
          "base_uri": "https://localhost:8080/"
        },
        "id": "uASIg0t7qtMz",
        "outputId": "51264602-b4ad-4cc5-fb2a-d8603413fcb8"
      },
      "execution_count": null,
      "outputs": [
        {
          "output_type": "stream",
          "name": "stdout",
          "text": [
            "+--------+--------+------------------+\n",
            "|   Sales|  Profit|          features|\n",
            "+--------+--------+------------------+\n",
            "| 2309.65|762.1845|[762.1845,2309.65]|\n",
            "|5175.171| 919.971|[919.971,5175.171]|\n",
            "| 2832.96|  311.52|  [311.52,2832.96]|\n",
            "|2862.675| 763.275|[763.275,2862.675]|\n",
            "| 1822.08|  564.84|  [564.84,1822.08]|\n",
            "+--------+--------+------------------+\n",
            "only showing top 5 rows\n",
            "\n"
          ]
        }
      ]
    },
    {
      "cell_type": "code",
      "source": [
        "gss_profit = gss_profit.toPandas()\n",
        "from pyspark.ml.clustering import KMeans\n",
        "from pyspark.ml.evaluation import ClusteringEvaluator\n",
        "from sklearn.cluster import KMeans\n",
        "Sum_of_squared_distances = []\n",
        "K = range(1,15)\n",
        "for k in K:\n",
        "    km = KMeans(n_clusters=k)\n",
        "    km = km.fit(gss_profit)\n",
        "    Sum_of_squared_distances.append(km.inertia_)"
      ],
      "metadata": {
        "id": "idjZhy0NnPuq"
      },
      "execution_count": null,
      "outputs": []
    },
    {
      "cell_type": "code",
      "source": [
        "import matplotlib.pyplot as plt\n",
        "plt.plot(K, Sum_of_squared_distances, 'bx-')\n",
        "plt.xlabel('k')\n",
        "plt.ylabel('Sum_of_squared_distances')\n",
        "plt.title('Elbow Method For Optimal k')\n",
        "plt.show()"
      ],
      "metadata": {
        "colab": {
          "base_uri": "https://localhost:8080/",
          "height": 295
        },
        "id": "pWm4jmF9nPxi",
        "outputId": "cab8bfef-287e-4fce-aae7-f88d1f76d1b9"
      },
      "execution_count": null,
      "outputs": [
        {
          "output_type": "display_data",
          "data": {
            "text/plain": [
              "<Figure size 432x288 with 1 Axes>"
            ],
            "image/png": "[encoded data removed]"
          },
          "metadata": {
            "needs_background": "light"
          }
        }
      ]
    },
    {
      "cell_type": "code",
      "source": [
        "\n",
        "from pyspark.ml.clustering import KMeans\n",
        "from pyspark.ml.evaluation import ClusteringEvaluator\n",
        "KMeans_=KMeans(featuresCol='features', k=3) \n",
        "KMeans_Model=KMeans_.fit(asd)\n",
        "KMeans_Assignments=KMeans_Model.transform(asd)"
      ],
      "metadata": {
        "id": "gas5DZxSnP0Z"
      },
      "execution_count": null,
      "outputs": []
    },
    {
      "cell_type": "code",
      "source": [
        "combined_result = KMeans_Assignments.select(\"Profit\", \"Sales\",\"prediction\")  #\"Discount\", \"Shipping Cost\", \"Quantity\",\"prediction\")\n",
        "combined_result.show()"
      ],
      "metadata": {
        "colab": {
          "base_uri": "https://localhost:8080/"
        },
        "id": "S2KFHx1QnP3U",
        "outputId": "a4b99689-9e95-4422-b4a7-27285dea3db2"
      },
      "execution_count": null,
      "outputs": [
        {
          "output_type": "stream",
          "name": "stdout",
          "text": [
            "+--------+--------+----------+\n",
            "|  Profit|   Sales|prediction|\n",
            "+--------+--------+----------+\n",
            "|762.1845| 2309.65|         2|\n",
            "| 919.971|5175.171|         2|\n",
            "|  311.52| 2832.96|         2|\n",
            "| 763.275|2862.675|         2|\n",
            "|  564.84| 1822.08|         0|\n",
            "|  996.48| 5244.84|         2|\n",
            "|1906.485| 5083.96|         2|\n",
            "|  83.281| 4164.05|         2|\n",
            "|  647.55| 4626.15|         2|\n",
            "|  1151.4| 2616.96|         2|\n",
            "|  622.02|  2221.8|         2|\n",
            "| 1036.08| 3701.52|         2|\n",
            "| 186.948|1869.588|         0|\n",
            "|517.4793| 2249.91|         2|\n",
            "| 3979.08| 7958.58|         2|\n",
            "|  28.404|2565.594|         2|\n",
            "|  818.28| 3409.74|         2|\n",
            "|  276.84| 1977.72|         0|\n",
            "| 341.994|2735.952|         2|\n",
            "|  358.02|  2754.0|         2|\n",
            "+--------+--------+----------+\n",
            "only showing top 20 rows\n",
            "\n"
          ]
        }
      ]
    },
    {
      "cell_type": "code",
      "source": [
        "combined_result = combined_result.toPandas()\n",
        "import seaborn as sns\n",
        "fig, ax = plt.subplots(1, 1, figsize=(8, 8))\n",
        "sns.scatterplot(x='Sales', y='Profit', \n",
        "                data=combined_result, \n",
        "                hue='prediction', \n",
        "                palette=\"deep\")"
      ],
      "metadata": {
        "colab": {
          "base_uri": "https://localhost:8080/",
          "height": 514
        },
        "id": "4XShUiqZnP6I",
        "outputId": "184e31c3-11ad-4c8d-a634-990cee781742"
      },
      "execution_count": null,
      "outputs": [
        {
          "output_type": "execute_result",
          "data": {
            "text/plain": [
              "<matplotlib.axes._subplots.AxesSubplot at 0x7f4cd2ec2c70>"
            ]
          },
          "metadata": {},
          "execution_count": 56
        },
        {
          "output_type": "display_data",
          "data": {
            "text/plain": [
              "<Figure size 576x576 with 1 Axes>"
            ],
            "image/png": "[encoded data removed]"
          },
          "metadata": {
            "needs_background": "light"
          }
        }
      ]
    },
    {
      "cell_type": "code",
      "source": [
        "from pyspark.ml.clustering import KMeans\n",
        "from pyspark.ml.evaluation import ClusteringEvaluator\n",
        "\n",
        "silhouette_scores=[]\n",
        "evaluator = ClusteringEvaluator(featuresCol='features', \\\n",
        "metricName='silhouette', distanceMeasure='squaredEuclidean')\n",
        "\n",
        "for K in range(2,6):\n",
        "\n",
        "    KMeans_=KMeans(featuresCol='features', k=K)\n",
        "\n",
        "    KMeans_fit=KMeans_.fit(asd)\n",
        "\n",
        "    KMeans_transform=KMeans_fit.transform(asd) \n",
        "\n",
        "    evaluation_score=evaluator.evaluate(KMeans_transform)\n",
        "\n",
        "    silhouette_scores.append(evaluation_score)\n",
        "\n",
        "    "
      ],
      "metadata": {
        "id": "UmLZXQuanP86"
      },
      "execution_count": null,
      "outputs": []
    },
    {
      "cell_type": "code",
      "source": [
        "print(\"Silhouette Score:\",str(evaluation_score))"
      ],
      "metadata": {
        "colab": {
          "base_uri": "https://localhost:8080/"
        },
        "id": "IRnAyTRDnQAJ",
        "outputId": "90b493f9-ac71-453a-e008-7be836562575"
      },
      "execution_count": null,
      "outputs": [
        {
          "output_type": "stream",
          "name": "stdout",
          "text": [
            "Silhouette Score: 0.8474317289695524\n"
          ]
        }
      ]
    },
    {
      "cell_type": "code",
      "source": [
        "centers = KMeans_Model.clusterCenters()\n",
        "print(centers)"
      ],
      "metadata": {
        "colab": {
          "base_uri": "https://localhost:8080/"
        },
        "id": "hxNME6CEnQC8",
        "outputId": "bd1cac33-1b9d-495e-af7a-ceb27f2c7f47"
      },
      "execution_count": null,
      "outputs": [
        {
          "output_type": "stream",
          "name": "stdout",
          "text": [
            "[array([ 233.41979912, 1012.8965264 ]), array([ 29.90722947, 125.28437899]), array([ 816.45719293, 3161.62880833])]\n"
          ]
        }
      ]
    },
    {
      "cell_type": "markdown",
      "source": [
        "Cluster for loss making data"
      ],
      "metadata": {
        "id": "gHmFF-cN0p1b"
      }
    },
    {
      "cell_type": "code",
      "source": [
        "gss_loss = gss.filter(gss.Profit < 0)\n",
        "gss_loss = gss_loss.filter(gss_loss.Sales < 22000 )"
      ],
      "metadata": {
        "id": "tSf23efNnQIR"
      },
      "execution_count": null,
      "outputs": []
    },
    {
      "cell_type": "code",
      "source": [
        "gss_loss = gss_loss.na.drop()"
      ],
      "metadata": {
        "id": "soPDlD7XnQLT"
      },
      "execution_count": null,
      "outputs": []
    },
    {
      "cell_type": "code",
      "source": [
        "gss_loss = gss_loss.select(\"Sales\",\"Profit\")                                                 #,\"Shipping Cost\",\"Discount\")\n",
        "gss_loss = gss_loss.withColumn(\"Sales\",col(\"Sales\").cast(\"double\"))\n",
        "gss_loss = gss_loss.withColumn(\"Quantity\",col(\"Quantity\").cast(\"double\"))\n",
        "gss_loss = gss_loss.withColumn(\"Shipping Cost\",col(\"Shipping Cost\").cast(\"double\"))\n",
        "gss_loss = gss_loss.withColumn(\"Discount\",col(\"Discount\").cast(\"double\"))\n",
        "gss_loss = gss_loss.withColumn(\"Profit\",col(\"Profit\").cast(\"double\"))"
      ],
      "metadata": {
        "id": "BsqggwIa05xH"
      },
      "execution_count": null,
      "outputs": []
    },
    {
      "cell_type": "code",
      "source": [
        "assemble1=VectorAssembler(inputCols=['Profit','Sales'], outputCol='features1')"
      ],
      "metadata": {
        "id": "R2rHvkGc057_"
      },
      "execution_count": null,
      "outputs": []
    },
    {
      "cell_type": "code",
      "source": [
        "asdloss = assemble1.transform(gss_loss)\n",
        "asdloss.show(5)"
      ],
      "metadata": {
        "colab": {
          "base_uri": "https://localhost:8080/"
        },
        "id": "tvHlGvF405-y",
        "outputId": "8f82087c-805a-4ddb-cad9-108d19f7140a"
      },
      "execution_count": null,
      "outputs": [
        {
          "output_type": "stream",
          "name": "stdout",
          "text": [
            "+--------+----------+--------------------+\n",
            "|   Sales|    Profit|           features1|\n",
            "+--------+----------+--------------------+\n",
            "|3709.395|  -288.765| [-288.765,3709.395]|\n",
            "| 2892.51|    -96.54|    [-96.54,2892.51]|\n",
            "|4297.644|-1862.3124|[-1862.3124,4297....|\n",
            "| 1696.64|   -148.46|   [-148.46,1696.64]|\n",
            "| 2453.43|   -350.49|   [-350.49,2453.43]|\n",
            "+--------+----------+--------------------+\n",
            "only showing top 5 rows\n",
            "\n"
          ]
        }
      ]
    },
    {
      "cell_type": "code",
      "source": [
        "gss_loss = gss_loss.toPandas()\n",
        "from pyspark.ml.clustering import KMeans\n",
        "from pyspark.ml.evaluation import ClusteringEvaluator\n",
        "from sklearn.cluster import KMeans\n",
        "Sum_of_squared_distances = []\n",
        "K = range(1,15)\n",
        "for k in K:\n",
        "    km = KMeans(n_clusters=k)\n",
        "    km = km.fit(gss_loss)\n",
        "    Sum_of_squared_distances.append(km.inertia_)"
      ],
      "metadata": {
        "id": "Sv51nJQG06B4"
      },
      "execution_count": null,
      "outputs": []
    },
    {
      "cell_type": "code",
      "source": [
        "import matplotlib.pyplot as plt\n",
        "plt.plot(K, Sum_of_squared_distances, 'bx-')\n",
        "plt.xlabel('k')\n",
        "plt.ylabel('Sum_of_squared_distances')\n",
        "plt.title('Elbow Method For Optimal k')\n",
        "plt.show()"
      ],
      "metadata": {
        "colab": {
          "base_uri": "https://localhost:8080/",
          "height": 295
        },
        "id": "YJQyKJQP06GA",
        "outputId": "5abb5943-53a0-4c97-d24c-8ffe8c297ff0"
      },
      "execution_count": null,
      "outputs": [
        {
          "output_type": "display_data",
          "data": {
            "text/plain": [
              "<Figure size 432x288 with 1 Axes>"
            ],
            "image/png": "[encoded data removed]"
          },
          "metadata": {
            "needs_background": "light"
          }
        }
      ]
    },
    {
      "cell_type": "code",
      "source": [
        "\n",
        "from pyspark.ml.clustering import KMeans\n",
        "from pyspark.ml.evaluation import ClusteringEvaluator\n",
        "KMeans_loss=KMeans(featuresCol='features1', k=4) \n",
        "KMeans_Model_loss=KMeans_loss.fit(asdloss)\n",
        "KMeans_Assignments_loss=KMeans_Model_loss.transform(asdloss)"
      ],
      "metadata": {
        "id": "_iaX4n7-06JK"
      },
      "execution_count": null,
      "outputs": []
    },
    {
      "cell_type": "code",
      "source": [
        "combined_result_loss = KMeans_Assignments_loss.select(\"Profit\", \"Sales\",\"prediction\")  #, \"Discount\", \"Shipping Cost\", \"Quantity\",\"prediction\")\n",
        "combined_result_loss.show()"
      ],
      "metadata": {
        "colab": {
          "base_uri": "https://localhost:8080/"
        },
        "id": "7fjpU0iQ06Kx",
        "outputId": "82fb1980-dd1d-4fd5-beb3-433ccfc03550"
      },
      "execution_count": null,
      "outputs": [
        {
          "output_type": "stream",
          "name": "stdout",
          "text": [
            "+----------+---------+----------+\n",
            "|    Profit|    Sales|prediction|\n",
            "+----------+---------+----------+\n",
            "|  -288.765| 3709.395|         2|\n",
            "|    -96.54|  2892.51|         2|\n",
            "|-1862.3124| 4297.644|         2|\n",
            "|   -148.46|  1696.64|         3|\n",
            "|   -350.49|  2453.43|         2|\n",
            "|-3839.9904|  7999.98|         2|\n",
            "|  -77.2038|3200.5962|         2|\n",
            "| -452.8104|3427.1496|         2|\n",
            "|  -630.882| 4416.174|         2|\n",
            "| -269.7912|2487.8088|         2|\n",
            "|    -0.054| 2016.846|         3|\n",
            "| -2211.165| 2570.865|         2|\n",
            "|  -1783.08|  2875.77|         2|\n",
            "|    -37.83|  1695.87|         3|\n",
            "|  -265.761| 1505.979|         3|\n",
            "|   -286.92|  1024.68|         3|\n",
            "|  -214.725| 2760.345|         2|\n",
            "| -1784.895| 1983.135|         2|\n",
            "| -317.1528|2396.2656|         2|\n",
            "| -128.7198|3126.4002|         2|\n",
            "+----------+---------+----------+\n",
            "only showing top 20 rows\n",
            "\n"
          ]
        }
      ]
    },
    {
      "cell_type": "code",
      "source": [
        "combined_result_loss = combined_result_loss.toPandas()\n",
        "import seaborn as sns\n",
        "fig, ax = plt.subplots(1, 1, figsize=(8, 8))\n",
        "sns.scatterplot(x='Sales', y='Profit', \n",
        "                data=combined_result_loss, \n",
        "                hue='prediction', \n",
        "                palette=\"deep\")"
      ],
      "metadata": {
        "colab": {
          "base_uri": "https://localhost:8080/",
          "height": 514
        },
        "id": "MWumtw4T06M5",
        "outputId": "f88d1004-f720-4a0f-f44f-52b3969f0d71"
      },
      "execution_count": null,
      "outputs": [
        {
          "output_type": "execute_result",
          "data": {
            "text/plain": [
              "<matplotlib.axes._subplots.AxesSubplot at 0x7f4cd36f9ca0>"
            ]
          },
          "metadata": {},
          "execution_count": 93
        },
        {
          "output_type": "display_data",
          "data": {
            "text/plain": [
              "<Figure size 576x576 with 1 Axes>"
            ],
            "image/png": "[encoded data removed]"
          },
          "metadata": {
            "needs_background": "light"
          }
        }
      ]
    },
    {
      "cell_type": "code",
      "source": [
        "from pyspark.ml.clustering import KMeans\n",
        "from pyspark.ml.evaluation import ClusteringEvaluator\n",
        "\n",
        "silhouette_scores=[]\n",
        "evaluator = ClusteringEvaluator(featuresCol='features1', \\\n",
        "metricName='silhouette', distanceMeasure='squaredEuclidean')\n",
        "\n",
        "for K in range(2,6):\n",
        "\n",
        "    KMeans_loss=KMeans(featuresCol='features1', k=K)\n",
        "\n",
        "    KMeans_fit_loss=KMeans_loss.fit(asdloss)\n",
        "\n",
        "    KMeans_transform_loss = KMeans_fit_loss.transform(asdloss) \n",
        "\n",
        "    evaluation_score_loss = evaluator.evaluate(KMeans_transform_loss)\n",
        "\n",
        "    silhouette_scores.append(evaluation_score_loss)"
      ],
      "metadata": {
        "id": "z_kwoHfI06Pv"
      },
      "execution_count": null,
      "outputs": []
    },
    {
      "cell_type": "code",
      "source": [
        "print(\"Silhouette Score:\",str(evaluation_score_loss))"
      ],
      "metadata": {
        "colab": {
          "base_uri": "https://localhost:8080/"
        },
        "id": "cX61r7HV06Sm",
        "outputId": "4b9e50d9-3554-48a0-fb20-a4ada370f3dc"
      },
      "execution_count": null,
      "outputs": [
        {
          "output_type": "stream",
          "name": "stdout",
          "text": [
            "Silhouette Score: 0.8187826348031794\n"
          ]
        }
      ]
    },
    {
      "cell_type": "code",
      "source": [
        "centers_loss = KMeans_Model_loss.clusterCenters()\n",
        "print(centers_loss)"
      ],
      "metadata": {
        "colab": {
          "base_uri": "https://localhost:8080/"
        },
        "id": "jeWuYnZS06WU",
        "outputId": "27136c59-7210-4944-c611-7d61be2394ff"
      },
      "execution_count": null,
      "outputs": [
        {
          "output_type": "stream",
          "name": "stdout",
          "text": [
            "[array([-173.35681247,  492.72456426]), array([-32.39183221,  69.47720713]), array([-1089.17432059,  3126.377075  ]), array([-396.75120152, 1298.74993878])]\n"
          ]
        }
      ]
    },
    {
      "cell_type": "code",
      "source": [],
      "metadata": {
        "id": "HIukC2p906tw"
      },
      "execution_count": null,
      "outputs": []
    },
    {
      "cell_type": "code",
      "source": [],
      "metadata": {
        "id": "KWLMHWaBnQOT"
      },
      "execution_count": null,
      "outputs": []
    },
    {
      "cell_type": "code",
      "source": [],
      "metadata": {
        "id": "l1rDX9vxnQRC"
      },
      "execution_count": null,
      "outputs": []
    },
    {
      "cell_type": "code",
      "source": [],
      "metadata": {
        "id": "xafnTZYGnQUm"
      },
      "execution_count": null,
      "outputs": []
    },
    {
      "cell_type": "code",
      "source": [
        "from pyspark.ml.feature import StandardScaler\n",
        "\n",
        "scale=StandardScaler(inputCol='features',outputCol='standardized')\n",
        "data_scale = scale.fit(asd)\n",
        "\n",
        "data_scale_output = data_scale.transform(asd)\n",
        "data_scale_output.show()\n",
        "data_scale_output.printSchema()"
      ],
      "metadata": {
        "colab": {
          "base_uri": "https://localhost:8080/"
        },
        "id": "CkxyRew5yJlD",
        "outputId": "dd0d9192-9b4d-4940-dac6-38c7662aa339"
      },
      "execution_count": null,
      "outputs": [
        {
          "output_type": "stream",
          "name": "stdout",
          "text": [
            "+------+---------------+----------+----------+--------------+-----------+-----------------+-----------+-------------+---------------+-------------+------+------------+----------------+---------------+------------+--------------------+--------+--------+--------+--------+-------------+--------------+------------------+--------------------+\n",
            "|Row ID|       Order ID|Order Date| Ship Date|     Ship Mode|Customer ID|    Customer Name|    Segment|         City|          State|      Country|Market|      Region|      Product ID|       Category|Sub-Category|        Product Name|   Sales|Quantity|Discount|  Profit|Shipping Cost|Order Priority|          features|        standardized|\n",
            "+------+---------------+----------+----------+--------------+-----------+-----------------+-----------+-------------+---------------+-------------+------+------------+----------------+---------------+------------+--------------------+--------+--------+--------+--------+-------------+--------------+------------------+--------------------+\n",
            "| 32298| CA-2012-124891|31-07-2012|31-07-2012|      Same Day|   RH-19495|      Rick Hansen|   Consumer|New York City|       New York|United States|    US|        East| TEC-AC-10003033|     Technology| Accessories|Plantronics CS510...| 2309.65|       7|       0|762.1845|       933.57|      Critical|[762.1845,2309.65]|[4.81606362211248...|\n",
            "| 25330|  IN-2013-71249|17-10-2013|18-10-2013|   First Class|   CR-12730|     Craig Reiter|   Consumer|     Brisbane|     Queensland|    Australia|  APAC|     Oceania| TEC-PH-10004664|     Technology|      Phones|Nokia Smart Phone...|5175.171|       9|     0.1| 919.971|       915.49|        Medium|[919.971,5175.171]|[5.81307920391774...|\n",
            "| 47221|   SG-2013-4320|05-11-2013|06-11-2013|      Same Day|    RH-9495|      Rick Hansen|   Consumer|        Dakar|          Dakar|      Senegal|Africa|      Africa|TEC-SHA-10000501|     Technology|     Copiers|Sharp Wireless Fa...| 2832.96|       8|       0|  311.52|       903.04|      Critical|  [311.52,2832.96]|[1.96842121502140...|\n",
            "| 22732|  IN-2013-42360|28-06-2013|01-07-2013|  Second Class|   JM-15655|      Jim Mitchum|  Corporate|       Sydney|New South Wales|    Australia|  APAC|     Oceania| TEC-PH-10000030|     Technology|      Phones|Samsung Smart Pho...|2862.675|       5|     0.1| 763.275|       897.35|      Critical|[763.275,2862.675]|[4.82295423374249...|\n",
            "| 30570|  IN-2011-81826|07-11-2011|09-11-2011|   First Class|   TS-21340|    Toby Swindell|   Consumer|      Porirua|     Wellington|  New Zealand|  APAC|     Oceania| FUR-CH-10004050|      Furniture|      Chairs|Novimex Executive...| 1822.08|       4|       0|  564.84|       894.77|      Critical|  [564.84,1822.08]|[3.56909039256770...|\n",
            "| 31192|  IN-2012-86369|14-04-2012|18-04-2012|Standard Class|   MB-18085|       Mick Brown|   Consumer|     Hamilton|        Waikato|  New Zealand|  APAC|     Oceania| FUR-TA-10002958|      Furniture|      Tables|Chromcraft Confer...| 5244.84|       6|       0|  996.48|       878.38|          High|  [996.48,5244.84]|[6.29652148287278...|\n",
            "| 40155| CA-2014-135909|14-10-2014|21-10-2014|Standard Class|   JW-15220|        Jane Waco|  Corporate|   Sacramento|     California|United States|    US|        West| OFF-BI-10003527|Office Supplies|     Binders|Fellowes PB500 El...| 5083.96|       5|     0.2|1906.485|       867.69|           Low|[1906.485,5083.96]|[12.0466278894455...|\n",
            "| 34577| CA-2011-102988|05-04-2011|09-04-2011|  Second Class|   GM-14695|     Greg Maxwell|  Corporate|   Alexandria|       Virginia|United States|    US|       South| OFF-SU-10002881|Office Supplies|    Supplies|Martin Yale Chadl...| 4164.05|       5|       0|  83.281|       846.54|          High|  [83.281,4164.05]|[0.52623294558358...|\n",
            "| 28879|  ID-2012-28402|19-04-2012|22-04-2012|   First Class|   AJ-10780|   Anthony Jacobs|  Corporate|        Kabul|          Kabul|  Afghanistan|  APAC|Central Asia| FUR-TA-10001889|      Furniture|      Tables|Bevis Conference ...| 4626.15|       5|       0|  647.55|       835.57|          High|  [647.55,4626.15]|[4.09171532417536...|\n",
            "| 45794|   SA-2011-1830|27-12-2011|29-12-2011|  Second Class|    MM-7260|  Magdelene Morse|   Consumer|        Jizan|          Jizan| Saudi Arabia|  EMEA|        EMEA|TEC-CIS-10001717|     Technology|      Phones|Cisco Smart Phone...| 2616.96|       4|       0|  1151.4|       832.41|      Critical|  [1151.4,2616.96]|[7.27542432901786...|\n",
            "|  4132| MX-2012-130015|13-11-2012|13-11-2012|      Same Day|   VF-21715|   Vicky Freymann|Home Office|       Toledo|         Parana|       Brazil| LATAM|       South| FUR-CH-10002033|      Furniture|      Chairs|Harbour Creations...|  2221.8|       7|       0|  622.02|       810.25|      Critical|   [622.02,2221.8]|[3.9303972912417,...|\n",
            "| 27704|  IN-2013-73951|06-06-2013|08-06-2013|  Second Class|   PF-19120|     Peter Fuller|   Consumer|   Mudanjiang|   Heilongjiang|        China|  APAC|  North Asia| OFF-AP-10003500|Office Supplies|  Appliances|KitchenAid Microw...| 3701.52|      12|       0| 1036.08|       804.54|      Critical| [1036.08,3701.52]|[6.54674451868058...|\n",
            "| 13779|ES-2014-5099955|31-07-2014|03-08-2014|  Second Class|   BP-11185|     Ben Peterman|  Corporate|        Paris|  Ile-de-France|       France|    EU|     Central| OFF-AP-10000423|Office Supplies|  Appliances|Breville Refriger...|1869.588|       4|     0.1| 186.948|       801.66|      Critical|[186.948,1869.588]|[1.18128020449994...|\n",
            "| 36178| CA-2014-143567|03-11-2014|06-11-2014|  Second Class|   TB-21175|    Thomas Boland|  Corporate|    Henderson|       Kentucky|United States|    US|       South| TEC-AC-10004145|     Technology| Accessories|Logitech diNovo E...| 2249.91|       9|       0|517.4793|        780.7|      Critical|[517.4793,2249.91]|[3.26982932862874...|\n",
            "| 12069|ES-2014-1651774|08-09-2014|14-09-2014|Standard Class|   PJ-18835|    Patrick Jones|  Corporate|        Prato|        Tuscany|        Italy|    EU|       South| OFF-AP-10004512|Office Supplies|  Appliances|   Hoover Stove, Red| 7958.58|      14|       0| 3979.08|       778.32|           Low| [3979.08,7958.58]|[25.1428655889425...|\n",
            "| 22096|  IN-2014-11763|31-01-2014|01-02-2014|   First Class|   JS-15685|         Jim Sink|  Corporate|   Townsville|     Queensland|    Australia|  APAC|     Oceania| TEC-CO-10000865|     Technology|     Copiers|Brother Fax Machi...|2565.594|       9|     0.1|  28.404|       766.93|      Critical| [28.404,2565.594]|[0.17947815932032...|\n",
            "| 49463|   TZ-2014-8190|05-12-2014|07-12-2014|  Second Class|    RH-9555|  Ritsa Hightower|   Consumer|       Uvinza|         Kigoma|     Tanzania|Africa|      Africa|OFF-KIT-10004058|Office Supplies|  Appliances|KitchenAid Stove,...| 3409.74|       6|       0|  818.28|       763.38|          High|  [818.28,3409.74]|[5.17051782173765...|\n",
            "| 46630|   PL-2012-7820|08-08-2012|10-08-2012|   First Class|     AB-600|        Ann Blume|  Corporate|        Bytom|        Silesia|       Poland|  EMEA|        EMEA|FUR-HON-10000224|      Furniture|      Tables|Hon Computer Tabl...| 1977.72|       4|       0|  276.84|       759.47|      Critical|  [276.84,1977.72]|[1.74928649578365...|\n",
            "| 31784| CA-2011-154627|29-10-2011|31-10-2011|   First Class|   SA-20830|     Sue Ann Reed|   Consumer|      Chicago|       Illinois|United States|    US|     Central| TEC-PH-10001363|     Technology|      Phones|     Apple iPhone 5S|2735.952|       6|     0.2| 341.994|       752.51|          High|[341.994,2735.952]|[2.16097921484986...|\n",
            "| 21586|  IN-2011-44803|02-05-2011|03-05-2011|   First Class|   JK-15325|Jason Klamczynski|  Corporate|       Suzhou|          Anhui|        China|  APAC|  North Asia| FUR-CH-10000027|      Furniture|      Chairs|SAFCO Executive L...|  2754.0|       6|       0|  358.02|       752.47|      Critical|   [358.02,2754.0]|[2.26224371918966...|\n",
            "+------+---------------+----------+----------+--------------+-----------+-----------------+-----------+-------------+---------------+-------------+------+------------+----------------+---------------+------------+--------------------+--------+--------+--------+--------+-------------+--------------+------------------+--------------------+\n",
            "only showing top 20 rows\n",
            "\n",
            "root\n",
            " |-- Row ID: integer (nullable = true)\n",
            " |-- Order ID: string (nullable = true)\n",
            " |-- Order Date: string (nullable = true)\n",
            " |-- Ship Date: string (nullable = true)\n",
            " |-- Ship Mode: string (nullable = true)\n",
            " |-- Customer ID: string (nullable = true)\n",
            " |-- Customer Name: string (nullable = true)\n",
            " |-- Segment: string (nullable = true)\n",
            " |-- City: string (nullable = true)\n",
            " |-- State: string (nullable = true)\n",
            " |-- Country: string (nullable = true)\n",
            " |-- Market: string (nullable = true)\n",
            " |-- Region: string (nullable = true)\n",
            " |-- Product ID: string (nullable = true)\n",
            " |-- Category: string (nullable = true)\n",
            " |-- Sub-Category: string (nullable = true)\n",
            " |-- Product Name: string (nullable = true)\n",
            " |-- Sales: double (nullable = true)\n",
            " |-- Quantity: string (nullable = true)\n",
            " |-- Discount: string (nullable = true)\n",
            " |-- Profit: double (nullable = true)\n",
            " |-- Shipping Cost: double (nullable = true)\n",
            " |-- Order Priority: string (nullable = true)\n",
            " |-- features: vector (nullable = true)\n",
            " |-- standardized: vector (nullable = true)\n",
            "\n"
          ]
        }
      ]
    },
    {
      "cell_type": "code",
      "source": [
        "from pyspark.ml.clustering import KMeans\n",
        "from pyspark.ml.evaluation import ClusteringEvaluator\n",
        "\n",
        "silhouette_scores=[]\n",
        "evaluator = ClusteringEvaluator(featuresCol='features', \\\n",
        "metricName='silhouette', distanceMeasure='squaredEuclidean')\n",
        "\n",
        "for K in range(2,6):\n",
        "\n",
        "    KMeans_=KMeans(featuresCol='features', k=K)\n",
        "\n",
        "    KMeans_fit=KMeans_.fit(data_scale_output)\n",
        "\n",
        "    KMeans_transform=KMeans_fit.transform(data_scale_output) \n",
        "\n",
        "    evaluation_score=evaluator.evaluate(KMeans_transform)\n",
        "\n",
        "    silhouette_scores.append(evaluation_score)\n",
        "\n",
        "    print(\"Silhouette Score:\",evaluation_score)"
      ],
      "metadata": {
        "id": "dZZpDvoM9blY",
        "colab": {
          "base_uri": "https://localhost:8080/"
        },
        "outputId": "8c130470-65d9-41ec-b4b0-c86793fe390d"
      },
      "execution_count": null,
      "outputs": [
        {
          "output_type": "stream",
          "name": "stdout",
          "text": [
            "Silhouette Score: 0.9292996360965639\n",
            "Silhouette Score: 0.890289895615105\n",
            "Silhouette Score: 0.8783428068066612\n",
            "Silhouette Score: 0.8591295860619125\n"
          ]
        }
      ]
    },
    {
      "cell_type": "code",
      "source": [
        "#Visualizing the silhouette scores in a plot\n",
        "import matplotlib.pyplot as plt\n",
        "fig, ax = plt.subplots(1,1, figsize =(8,6))\n",
        "ax.plot(range(2,6),silhouette_scores)\n",
        "#ax.set_xlabel(‘Profit’)\n",
        "#ax.set_ylabel(‘cost’)"
      ],
      "metadata": {
        "colab": {
          "base_uri": "https://localhost:8080/",
          "height": 391
        },
        "id": "KopXg_6kRVN8",
        "outputId": "f312527b-45c3-4f4f-ade7-a71c633a7aef"
      },
      "execution_count": null,
      "outputs": [
        {
          "output_type": "execute_result",
          "data": {
            "text/plain": [
              "[<matplotlib.lines.Line2D at 0x7f1f8d1759a0>]"
            ]
          },
          "metadata": {},
          "execution_count": 112
        },
        {
          "output_type": "display_data",
          "data": {
            "text/plain": [
              "<Figure size 576x432 with 1 Axes>"
            ],
            "image/png": "[encoded data removed]"
          },
          "metadata": {
            "needs_background": "light"
          }
        }
      ]
    },
    {
      "cell_type": "code",
      "source": [
        "KMeans_=KMeans(featuresCol='features', k=3) \n",
        "KMeans_Model=KMeans_.fit(data_scale_output)\n",
        "KMeans_Assignments=KMeans_Model.transform(data_scale_output)"
      ],
      "metadata": {
        "id": "0295nO3KUS5m"
      },
      "execution_count": null,
      "outputs": []
    },
    {
      "cell_type": "code",
      "source": [
        "KMeans_Assignments.show()"
      ],
      "metadata": {
        "colab": {
          "base_uri": "https://localhost:8080/"
        },
        "id": "6G5P9iheZ40H",
        "outputId": "6ba68a9c-5211-4074-ca71-dec0ca4b5ba1"
      },
      "execution_count": null,
      "outputs": [
        {
          "output_type": "stream",
          "name": "stdout",
          "text": [
            "+------+---------------+----------+----------+--------------+-----------+-----------------+-----------+-------------+---------------+-------------+------+------------+----------------+---------------+------------+--------------------+--------+--------+--------+--------+-------------+--------------+------------------+--------------------+----------+\n",
            "|Row ID|       Order ID|Order Date| Ship Date|     Ship Mode|Customer ID|    Customer Name|    Segment|         City|          State|      Country|Market|      Region|      Product ID|       Category|Sub-Category|        Product Name|   Sales|Quantity|Discount|  Profit|Shipping Cost|Order Priority|          features|        standardized|prediction|\n",
            "+------+---------------+----------+----------+--------------+-----------+-----------------+-----------+-------------+---------------+-------------+------+------------+----------------+---------------+------------+--------------------+--------+--------+--------+--------+-------------+--------------+------------------+--------------------+----------+\n",
            "| 32298| CA-2012-124891|31-07-2012|31-07-2012|      Same Day|   RH-19495|      Rick Hansen|   Consumer|New York City|       New York|United States|    US|        East| TEC-AC-10003033|     Technology| Accessories|Plantronics CS510...| 2309.65|       7|       0|762.1845|       933.57|      Critical|[762.1845,2309.65]|[4.81606362211248...|         2|\n",
            "| 25330|  IN-2013-71249|17-10-2013|18-10-2013|   First Class|   CR-12730|     Craig Reiter|   Consumer|     Brisbane|     Queensland|    Australia|  APAC|     Oceania| TEC-PH-10004664|     Technology|      Phones|Nokia Smart Phone...|5175.171|       9|     0.1| 919.971|       915.49|        Medium|[919.971,5175.171]|[5.81307920391774...|         2|\n",
            "| 47221|   SG-2013-4320|05-11-2013|06-11-2013|      Same Day|    RH-9495|      Rick Hansen|   Consumer|        Dakar|          Dakar|      Senegal|Africa|      Africa|TEC-SHA-10000501|     Technology|     Copiers|Sharp Wireless Fa...| 2832.96|       8|       0|  311.52|       903.04|      Critical|  [311.52,2832.96]|[1.96842121502140...|         2|\n",
            "| 22732|  IN-2013-42360|28-06-2013|01-07-2013|  Second Class|   JM-15655|      Jim Mitchum|  Corporate|       Sydney|New South Wales|    Australia|  APAC|     Oceania| TEC-PH-10000030|     Technology|      Phones|Samsung Smart Pho...|2862.675|       5|     0.1| 763.275|       897.35|      Critical|[763.275,2862.675]|[4.82295423374249...|         2|\n",
            "| 30570|  IN-2011-81826|07-11-2011|09-11-2011|   First Class|   TS-21340|    Toby Swindell|   Consumer|      Porirua|     Wellington|  New Zealand|  APAC|     Oceania| FUR-CH-10004050|      Furniture|      Chairs|Novimex Executive...| 1822.08|       4|       0|  564.84|       894.77|      Critical|  [564.84,1822.08]|[3.56909039256770...|         0|\n",
            "| 31192|  IN-2012-86369|14-04-2012|18-04-2012|Standard Class|   MB-18085|       Mick Brown|   Consumer|     Hamilton|        Waikato|  New Zealand|  APAC|     Oceania| FUR-TA-10002958|      Furniture|      Tables|Chromcraft Confer...| 5244.84|       6|       0|  996.48|       878.38|          High|  [996.48,5244.84]|[6.29652148287278...|         2|\n",
            "| 40155| CA-2014-135909|14-10-2014|21-10-2014|Standard Class|   JW-15220|        Jane Waco|  Corporate|   Sacramento|     California|United States|    US|        West| OFF-BI-10003527|Office Supplies|     Binders|Fellowes PB500 El...| 5083.96|       5|     0.2|1906.485|       867.69|           Low|[1906.485,5083.96]|[12.0466278894455...|         2|\n",
            "| 34577| CA-2011-102988|05-04-2011|09-04-2011|  Second Class|   GM-14695|     Greg Maxwell|  Corporate|   Alexandria|       Virginia|United States|    US|       South| OFF-SU-10002881|Office Supplies|    Supplies|Martin Yale Chadl...| 4164.05|       5|       0|  83.281|       846.54|          High|  [83.281,4164.05]|[0.52623294558358...|         2|\n",
            "| 28879|  ID-2012-28402|19-04-2012|22-04-2012|   First Class|   AJ-10780|   Anthony Jacobs|  Corporate|        Kabul|          Kabul|  Afghanistan|  APAC|Central Asia| FUR-TA-10001889|      Furniture|      Tables|Bevis Conference ...| 4626.15|       5|       0|  647.55|       835.57|          High|  [647.55,4626.15]|[4.09171532417536...|         2|\n",
            "| 45794|   SA-2011-1830|27-12-2011|29-12-2011|  Second Class|    MM-7260|  Magdelene Morse|   Consumer|        Jizan|          Jizan| Saudi Arabia|  EMEA|        EMEA|TEC-CIS-10001717|     Technology|      Phones|Cisco Smart Phone...| 2616.96|       4|       0|  1151.4|       832.41|      Critical|  [1151.4,2616.96]|[7.27542432901786...|         2|\n",
            "|  4132| MX-2012-130015|13-11-2012|13-11-2012|      Same Day|   VF-21715|   Vicky Freymann|Home Office|       Toledo|         Parana|       Brazil| LATAM|       South| FUR-CH-10002033|      Furniture|      Chairs|Harbour Creations...|  2221.8|       7|       0|  622.02|       810.25|      Critical|   [622.02,2221.8]|[3.9303972912417,...|         2|\n",
            "| 27704|  IN-2013-73951|06-06-2013|08-06-2013|  Second Class|   PF-19120|     Peter Fuller|   Consumer|   Mudanjiang|   Heilongjiang|        China|  APAC|  North Asia| OFF-AP-10003500|Office Supplies|  Appliances|KitchenAid Microw...| 3701.52|      12|       0| 1036.08|       804.54|      Critical| [1036.08,3701.52]|[6.54674451868058...|         2|\n",
            "| 13779|ES-2014-5099955|31-07-2014|03-08-2014|  Second Class|   BP-11185|     Ben Peterman|  Corporate|        Paris|  Ile-de-France|       France|    EU|     Central| OFF-AP-10000423|Office Supplies|  Appliances|Breville Refriger...|1869.588|       4|     0.1| 186.948|       801.66|      Critical|[186.948,1869.588]|[1.18128020449994...|         0|\n",
            "| 36178| CA-2014-143567|03-11-2014|06-11-2014|  Second Class|   TB-21175|    Thomas Boland|  Corporate|    Henderson|       Kentucky|United States|    US|       South| TEC-AC-10004145|     Technology| Accessories|Logitech diNovo E...| 2249.91|       9|       0|517.4793|        780.7|      Critical|[517.4793,2249.91]|[3.26982932862874...|         2|\n",
            "| 12069|ES-2014-1651774|08-09-2014|14-09-2014|Standard Class|   PJ-18835|    Patrick Jones|  Corporate|        Prato|        Tuscany|        Italy|    EU|       South| OFF-AP-10004512|Office Supplies|  Appliances|   Hoover Stove, Red| 7958.58|      14|       0| 3979.08|       778.32|           Low| [3979.08,7958.58]|[25.1428655889425...|         2|\n",
            "| 22096|  IN-2014-11763|31-01-2014|01-02-2014|   First Class|   JS-15685|         Jim Sink|  Corporate|   Townsville|     Queensland|    Australia|  APAC|     Oceania| TEC-CO-10000865|     Technology|     Copiers|Brother Fax Machi...|2565.594|       9|     0.1|  28.404|       766.93|      Critical| [28.404,2565.594]|[0.17947815932032...|         2|\n",
            "| 49463|   TZ-2014-8190|05-12-2014|07-12-2014|  Second Class|    RH-9555|  Ritsa Hightower|   Consumer|       Uvinza|         Kigoma|     Tanzania|Africa|      Africa|OFF-KIT-10004058|Office Supplies|  Appliances|KitchenAid Stove,...| 3409.74|       6|       0|  818.28|       763.38|          High|  [818.28,3409.74]|[5.17051782173765...|         2|\n",
            "| 46630|   PL-2012-7820|08-08-2012|10-08-2012|   First Class|     AB-600|        Ann Blume|  Corporate|        Bytom|        Silesia|       Poland|  EMEA|        EMEA|FUR-HON-10000224|      Furniture|      Tables|Hon Computer Tabl...| 1977.72|       4|       0|  276.84|       759.47|      Critical|  [276.84,1977.72]|[1.74928649578365...|         0|\n",
            "| 31784| CA-2011-154627|29-10-2011|31-10-2011|   First Class|   SA-20830|     Sue Ann Reed|   Consumer|      Chicago|       Illinois|United States|    US|     Central| TEC-PH-10001363|     Technology|      Phones|     Apple iPhone 5S|2735.952|       6|     0.2| 341.994|       752.51|          High|[341.994,2735.952]|[2.16097921484986...|         2|\n",
            "| 21586|  IN-2011-44803|02-05-2011|03-05-2011|   First Class|   JK-15325|Jason Klamczynski|  Corporate|       Suzhou|          Anhui|        China|  APAC|  North Asia| FUR-CH-10000027|      Furniture|      Chairs|SAFCO Executive L...|  2754.0|       6|       0|  358.02|       752.47|      Critical|   [358.02,2754.0]|[2.26224371918966...|         2|\n",
            "+------+---------------+----------+----------+--------------+-----------+-----------------+-----------+-------------+---------------+-------------+------+------------+----------------+---------------+------------+--------------------+--------+--------+--------+--------+-------------+--------------+------------------+--------------------+----------+\n",
            "only showing top 20 rows\n",
            "\n"
          ]
        }
      ]
    },
    {
      "cell_type": "code",
      "source": [
        "combined_result = KMeans_Assignments.select(\"Order ID\",\"Profit\", \"Sales\", \"Discount\", \"Shipping Cost\", \"Quantity\",\"prediction\")\n",
        "combined_result.show()"
      ],
      "metadata": {
        "id": "4Lam3wj_clhH",
        "colab": {
          "base_uri": "https://localhost:8080/"
        },
        "outputId": "ddd5adff-cb3c-4fb9-9ade-71ab69f25f9f"
      },
      "execution_count": null,
      "outputs": [
        {
          "output_type": "stream",
          "name": "stdout",
          "text": [
            "+---------------+--------+--------+--------+-------------+--------+----------+\n",
            "|       Order ID|  Profit|   Sales|Discount|Shipping Cost|Quantity|prediction|\n",
            "+---------------+--------+--------+--------+-------------+--------+----------+\n",
            "| CA-2012-124891|762.1845| 2309.65|       0|       933.57|       7|         2|\n",
            "|  IN-2013-71249| 919.971|5175.171|     0.1|       915.49|       9|         2|\n",
            "|   SG-2013-4320|  311.52| 2832.96|       0|       903.04|       8|         2|\n",
            "|  IN-2013-42360| 763.275|2862.675|     0.1|       897.35|       5|         2|\n",
            "|  IN-2011-81826|  564.84| 1822.08|       0|       894.77|       4|         0|\n",
            "|  IN-2012-86369|  996.48| 5244.84|       0|       878.38|       6|         2|\n",
            "| CA-2014-135909|1906.485| 5083.96|     0.2|       867.69|       5|         2|\n",
            "| CA-2011-102988|  83.281| 4164.05|       0|       846.54|       5|         2|\n",
            "|  ID-2012-28402|  647.55| 4626.15|       0|       835.57|       5|         2|\n",
            "|   SA-2011-1830|  1151.4| 2616.96|       0|       832.41|       4|         2|\n",
            "| MX-2012-130015|  622.02|  2221.8|       0|       810.25|       7|         2|\n",
            "|  IN-2013-73951| 1036.08| 3701.52|       0|       804.54|      12|         2|\n",
            "|ES-2014-5099955| 186.948|1869.588|     0.1|       801.66|       4|         0|\n",
            "| CA-2014-143567|517.4793| 2249.91|       0|        780.7|       9|         2|\n",
            "|ES-2014-1651774| 3979.08| 7958.58|       0|       778.32|      14|         2|\n",
            "|  IN-2014-11763|  28.404|2565.594|     0.1|       766.93|       9|         2|\n",
            "|   TZ-2014-8190|  818.28| 3409.74|       0|       763.38|       6|         2|\n",
            "|   PL-2012-7820|  276.84| 1977.72|       0|       759.47|       4|         0|\n",
            "| CA-2011-154627| 341.994|2735.952|     0.2|       752.51|       6|         2|\n",
            "|  IN-2011-44803|  358.02|  2754.0|       0|       752.47|       6|         2|\n",
            "+---------------+--------+--------+--------+-------------+--------+----------+\n",
            "only showing top 20 rows\n",
            "\n"
          ]
        }
      ]
    },
    {
      "cell_type": "code",
      "source": [
        "combined_result = combined_result.toPandas()\n"
      ],
      "metadata": {
        "colab": {
          "base_uri": "https://localhost:8080/",
          "height": 304
        },
        "id": "WqxkpaFmdyoZ",
        "outputId": "7d0d7eed-26b1-42d3-c612-2d06a0dd2a07"
      },
      "execution_count": null,
      "outputs": [
        {
          "output_type": "error",
          "ename": "AttributeError",
          "evalue": "ignored",
          "traceback": [
            "\u001b[0;31m---------------------------------------------------------------------------\u001b[0m",
            "\u001b[0;31mAttributeError\u001b[0m                            Traceback (most recent call last)",
            "\u001b[0;32m<ipython-input-126-2c5aed859ba4>\u001b[0m in \u001b[0;36m<module>\u001b[0;34m\u001b[0m\n\u001b[0;32m----> 1\u001b[0;31m \u001b[0mcombined_result\u001b[0m \u001b[0;34m=\u001b[0m \u001b[0mcombined_result\u001b[0m\u001b[0;34m.\u001b[0m\u001b[0mtoPandas\u001b[0m\u001b[0;34m(\u001b[0m\u001b[0;34m)\u001b[0m\u001b[0;34m\u001b[0m\u001b[0;34m\u001b[0m\u001b[0m\n\u001b[0m\u001b[1;32m      2\u001b[0m \u001b[0mdata_scale_output\u001b[0m \u001b[0;34m=\u001b[0m \u001b[0mdata_scale_output\u001b[0m\u001b[0;34m.\u001b[0m\u001b[0mtoPandas\u001b[0m\u001b[0;34m(\u001b[0m\u001b[0;34m)\u001b[0m\u001b[0;34m\u001b[0m\u001b[0;34m\u001b[0m\u001b[0m\n",
            "\u001b[0;32m/usr/local/lib/python3.8/dist-packages/pandas/core/generic.py\u001b[0m in \u001b[0;36m__getattr__\u001b[0;34m(self, name)\u001b[0m\n\u001b[1;32m   5485\u001b[0m         ):\n\u001b[1;32m   5486\u001b[0m             \u001b[0;32mreturn\u001b[0m \u001b[0mself\u001b[0m\u001b[0;34m[\u001b[0m\u001b[0mname\u001b[0m\u001b[0;34m]\u001b[0m\u001b[0;34m\u001b[0m\u001b[0;34m\u001b[0m\u001b[0m\n\u001b[0;32m-> 5487\u001b[0;31m         \u001b[0;32mreturn\u001b[0m \u001b[0mobject\u001b[0m\u001b[0;34m.\u001b[0m\u001b[0m__getattribute__\u001b[0m\u001b[0;34m(\u001b[0m\u001b[0mself\u001b[0m\u001b[0;34m,\u001b[0m \u001b[0mname\u001b[0m\u001b[0;34m)\u001b[0m\u001b[0;34m\u001b[0m\u001b[0;34m\u001b[0m\u001b[0m\n\u001b[0m\u001b[1;32m   5488\u001b[0m \u001b[0;34m\u001b[0m\u001b[0m\n\u001b[1;32m   5489\u001b[0m     \u001b[0;32mdef\u001b[0m \u001b[0m__setattr__\u001b[0m\u001b[0;34m(\u001b[0m\u001b[0mself\u001b[0m\u001b[0;34m,\u001b[0m \u001b[0mname\u001b[0m\u001b[0;34m:\u001b[0m \u001b[0mstr\u001b[0m\u001b[0;34m,\u001b[0m \u001b[0mvalue\u001b[0m\u001b[0;34m)\u001b[0m \u001b[0;34m->\u001b[0m \u001b[0;32mNone\u001b[0m\u001b[0;34m:\u001b[0m\u001b[0;34m\u001b[0m\u001b[0;34m\u001b[0m\u001b[0m\n",
            "\u001b[0;31mAttributeError\u001b[0m: 'DataFrame' object has no attribute 'toPandas'"
          ]
        }
      ]
    },
    {
      "cell_type": "code",
      "source": [
        "import seaborn as sns\n",
        "fig, ax = plt.subplots(1, 1, figsize=(8, 8))\n",
        "sns.scatterplot(x='Sales', y='Profit', \n",
        "                data=combined_result, \n",
        "                hue='prediction', \n",
        "                palette=\"deep\")"
      ],
      "metadata": {
        "colab": {
          "base_uri": "https://localhost:8080/",
          "height": 514
        },
        "id": "znCfD3wQVyp5",
        "outputId": "e37194e5-ecc3-451c-a765-669951f53f65"
      },
      "execution_count": null,
      "outputs": [
        {
          "output_type": "execute_result",
          "data": {
            "text/plain": [
              "<matplotlib.axes._subplots.AxesSubplot at 0x7f1f94344df0>"
            ]
          },
          "metadata": {},
          "execution_count": 117
        },
        {
          "output_type": "display_data",
          "data": {
            "text/plain": [
              "<Figure size 576x576 with 1 Axes>"
            ],
            "image/png": "[encoded data removed]"
          },
          "metadata": {
            "needs_background": "light"
          }
        }
      ]
    },
    {
      "cell_type": "code",
      "source": [
        "centers = KMeans_Model.clusterCenters()\n",
        "print(centers)"
      ],
      "metadata": {
        "colab": {
          "base_uri": "https://localhost:8080/"
        },
        "id": "hWnrM6vchIq4",
        "outputId": "83f1b7a5-dff9-401d-e13c-416d85e96b10"
      },
      "execution_count": null,
      "outputs": [
        {
          "output_type": "stream",
          "name": "stdout",
          "text": [
            "[array([ 240.86919319, 1040.9904893 ]), array([ 30.26032884, 127.05588139]), array([ 844.15092903, 3263.01650219])]\n"
          ]
        }
      ]
    },
    {
      "cell_type": "code",
      "source": [
        "from sklearn.cluster import KMeans\n",
        "Sum_of_squared_distances = []\n",
        "K = range(1,15)\n",
        "for k in K:\n",
        "    km = KMeans(n_clusters=k)\n",
        "    km = KMeans_.fit(data_scale_output)\n",
        "   \n"
      ],
      "metadata": {
        "id": "YE23v2vnb6oe"
      },
      "execution_count": null,
      "outputs": []
    },
    {
      "cell_type": "code",
      "source": [
        "combined_result = combined_result.drop('prediction')"
      ],
      "metadata": {
        "colab": {
          "base_uri": "https://localhost:8080/",
          "height": 311
        },
        "id": "OA88Ek2ofb93",
        "outputId": "f811c935-021d-49b5-9305-e1be31772b8d"
      },
      "execution_count": null,
      "outputs": [
        {
          "output_type": "error",
          "ename": "KeyError",
          "evalue": "ignored",
          "traceback": [
            "\u001b[0;31m---------------------------------------------------------------------------\u001b[0m",
            "\u001b[0;31mKeyError\u001b[0m                                  Traceback (most recent call last)",
            "\u001b[0;32m<ipython-input-130-c404cf5dcf7b>\u001b[0m in \u001b[0;36m<module>\u001b[0;34m\u001b[0m\n\u001b[0;32m----> 1\u001b[0;31m \u001b[0mcombined_result\u001b[0m \u001b[0;34m=\u001b[0m \u001b[0mcombined_result\u001b[0m\u001b[0;34m.\u001b[0m\u001b[0mdrop\u001b[0m\u001b[0;34m(\u001b[0m\u001b[0;34m'prediction'\u001b[0m\u001b[0;34m)\u001b[0m\u001b[0;34m\u001b[0m\u001b[0;34m\u001b[0m\u001b[0m\n\u001b[0m",
            "\u001b[0;32m/usr/local/lib/python3.8/dist-packages/pandas/util/_decorators.py\u001b[0m in \u001b[0;36mwrapper\u001b[0;34m(*args, **kwargs)\u001b[0m\n\u001b[1;32m    309\u001b[0m                     \u001b[0mstacklevel\u001b[0m\u001b[0;34m=\u001b[0m\u001b[0mstacklevel\u001b[0m\u001b[0;34m,\u001b[0m\u001b[0;34m\u001b[0m\u001b[0;34m\u001b[0m\u001b[0m\n\u001b[1;32m    310\u001b[0m                 )\n\u001b[0;32m--> 311\u001b[0;31m             \u001b[0;32mreturn\u001b[0m \u001b[0mfunc\u001b[0m\u001b[0;34m(\u001b[0m\u001b[0;34m*\u001b[0m\u001b[0margs\u001b[0m\u001b[0;34m,\u001b[0m \u001b[0;34m**\u001b[0m\u001b[0mkwargs\u001b[0m\u001b[0;34m)\u001b[0m\u001b[0;34m\u001b[0m\u001b[0;34m\u001b[0m\u001b[0m\n\u001b[0m\u001b[1;32m    312\u001b[0m \u001b[0;34m\u001b[0m\u001b[0m\n\u001b[1;32m    313\u001b[0m         \u001b[0;32mreturn\u001b[0m \u001b[0mwrapper\u001b[0m\u001b[0;34m\u001b[0m\u001b[0;34m\u001b[0m\u001b[0m\n",
            "\u001b[0;32m/usr/local/lib/python3.8/dist-packages/pandas/core/frame.py\u001b[0m in \u001b[0;36mdrop\u001b[0;34m(self, labels, axis, index, columns, level, inplace, errors)\u001b[0m\n\u001b[1;32m   4904\u001b[0m                 \u001b[0mweight\u001b[0m  \u001b[0;36m1.0\u001b[0m     \u001b[0;36m0.8\u001b[0m\u001b[0;34m\u001b[0m\u001b[0;34m\u001b[0m\u001b[0m\n\u001b[1;32m   4905\u001b[0m         \"\"\"\n\u001b[0;32m-> 4906\u001b[0;31m         return super().drop(\n\u001b[0m\u001b[1;32m   4907\u001b[0m             \u001b[0mlabels\u001b[0m\u001b[0;34m=\u001b[0m\u001b[0mlabels\u001b[0m\u001b[0;34m,\u001b[0m\u001b[0;34m\u001b[0m\u001b[0;34m\u001b[0m\u001b[0m\n\u001b[1;32m   4908\u001b[0m             \u001b[0maxis\u001b[0m\u001b[0;34m=\u001b[0m\u001b[0maxis\u001b[0m\u001b[0;34m,\u001b[0m\u001b[0;34m\u001b[0m\u001b[0;34m\u001b[0m\u001b[0m\n",
            "\u001b[0;32m/usr/local/lib/python3.8/dist-packages/pandas/core/generic.py\u001b[0m in \u001b[0;36mdrop\u001b[0;34m(self, labels, axis, index, columns, level, inplace, errors)\u001b[0m\n\u001b[1;32m   4148\u001b[0m         \u001b[0;32mfor\u001b[0m \u001b[0maxis\u001b[0m\u001b[0;34m,\u001b[0m \u001b[0mlabels\u001b[0m \u001b[0;32min\u001b[0m \u001b[0maxes\u001b[0m\u001b[0;34m.\u001b[0m\u001b[0mitems\u001b[0m\u001b[0;34m(\u001b[0m\u001b[0;34m)\u001b[0m\u001b[0;34m:\u001b[0m\u001b[0;34m\u001b[0m\u001b[0;34m\u001b[0m\u001b[0m\n\u001b[1;32m   4149\u001b[0m             \u001b[0;32mif\u001b[0m \u001b[0mlabels\u001b[0m \u001b[0;32mis\u001b[0m \u001b[0;32mnot\u001b[0m \u001b[0;32mNone\u001b[0m\u001b[0;34m:\u001b[0m\u001b[0;34m\u001b[0m\u001b[0;34m\u001b[0m\u001b[0m\n\u001b[0;32m-> 4150\u001b[0;31m                 \u001b[0mobj\u001b[0m \u001b[0;34m=\u001b[0m \u001b[0mobj\u001b[0m\u001b[0;34m.\u001b[0m\u001b[0m_drop_axis\u001b[0m\u001b[0;34m(\u001b[0m\u001b[0mlabels\u001b[0m\u001b[0;34m,\u001b[0m \u001b[0maxis\u001b[0m\u001b[0;34m,\u001b[0m \u001b[0mlevel\u001b[0m\u001b[0;34m=\u001b[0m\u001b[0mlevel\u001b[0m\u001b[0;34m,\u001b[0m \u001b[0merrors\u001b[0m\u001b[0;34m=\u001b[0m\u001b[0merrors\u001b[0m\u001b[0;34m)\u001b[0m\u001b[0;34m\u001b[0m\u001b[0;34m\u001b[0m\u001b[0m\n\u001b[0m\u001b[1;32m   4151\u001b[0m \u001b[0;34m\u001b[0m\u001b[0m\n\u001b[1;32m   4152\u001b[0m         \u001b[0;32mif\u001b[0m \u001b[0minplace\u001b[0m\u001b[0;34m:\u001b[0m\u001b[0;34m\u001b[0m\u001b[0;34m\u001b[0m\u001b[0m\n",
            "\u001b[0;32m/usr/local/lib/python3.8/dist-packages/pandas/core/generic.py\u001b[0m in \u001b[0;36m_drop_axis\u001b[0;34m(self, labels, axis, level, errors)\u001b[0m\n\u001b[1;32m   4183\u001b[0m                 \u001b[0mnew_axis\u001b[0m \u001b[0;34m=\u001b[0m \u001b[0maxis\u001b[0m\u001b[0;34m.\u001b[0m\u001b[0mdrop\u001b[0m\u001b[0;34m(\u001b[0m\u001b[0mlabels\u001b[0m\u001b[0;34m,\u001b[0m \u001b[0mlevel\u001b[0m\u001b[0;34m=\u001b[0m\u001b[0mlevel\u001b[0m\u001b[0;34m,\u001b[0m \u001b[0merrors\u001b[0m\u001b[0;34m=\u001b[0m\u001b[0merrors\u001b[0m\u001b[0;34m)\u001b[0m\u001b[0;34m\u001b[0m\u001b[0;34m\u001b[0m\u001b[0m\n\u001b[1;32m   4184\u001b[0m             \u001b[0;32melse\u001b[0m\u001b[0;34m:\u001b[0m\u001b[0;34m\u001b[0m\u001b[0;34m\u001b[0m\u001b[0m\n\u001b[0;32m-> 4185\u001b[0;31m                 \u001b[0mnew_axis\u001b[0m \u001b[0;34m=\u001b[0m \u001b[0maxis\u001b[0m\u001b[0;34m.\u001b[0m\u001b[0mdrop\u001b[0m\u001b[0;34m(\u001b[0m\u001b[0mlabels\u001b[0m\u001b[0;34m,\u001b[0m \u001b[0merrors\u001b[0m\u001b[0;34m=\u001b[0m\u001b[0merrors\u001b[0m\u001b[0;34m)\u001b[0m\u001b[0;34m\u001b[0m\u001b[0;34m\u001b[0m\u001b[0m\n\u001b[0m\u001b[1;32m   4186\u001b[0m             \u001b[0mresult\u001b[0m \u001b[0;34m=\u001b[0m \u001b[0mself\u001b[0m\u001b[0;34m.\u001b[0m\u001b[0mreindex\u001b[0m\u001b[0;34m(\u001b[0m\u001b[0;34m**\u001b[0m\u001b[0;34m{\u001b[0m\u001b[0maxis_name\u001b[0m\u001b[0;34m:\u001b[0m \u001b[0mnew_axis\u001b[0m\u001b[0;34m}\u001b[0m\u001b[0;34m)\u001b[0m\u001b[0;34m\u001b[0m\u001b[0;34m\u001b[0m\u001b[0m\n\u001b[1;32m   4187\u001b[0m \u001b[0;34m\u001b[0m\u001b[0m\n",
            "\u001b[0;32m/usr/local/lib/python3.8/dist-packages/pandas/core/indexes/base.py\u001b[0m in \u001b[0;36mdrop\u001b[0;34m(self, labels, errors)\u001b[0m\n\u001b[1;32m   6015\u001b[0m         \u001b[0;32mif\u001b[0m \u001b[0mmask\u001b[0m\u001b[0;34m.\u001b[0m\u001b[0many\u001b[0m\u001b[0;34m(\u001b[0m\u001b[0;34m)\u001b[0m\u001b[0;34m:\u001b[0m\u001b[0;34m\u001b[0m\u001b[0;34m\u001b[0m\u001b[0m\n\u001b[1;32m   6016\u001b[0m             \u001b[0;32mif\u001b[0m \u001b[0merrors\u001b[0m \u001b[0;34m!=\u001b[0m \u001b[0;34m\"ignore\"\u001b[0m\u001b[0;34m:\u001b[0m\u001b[0;34m\u001b[0m\u001b[0;34m\u001b[0m\u001b[0m\n\u001b[0;32m-> 6017\u001b[0;31m                 \u001b[0;32mraise\u001b[0m \u001b[0mKeyError\u001b[0m\u001b[0;34m(\u001b[0m\u001b[0;34mf\"{labels[mask]} not found in axis\"\u001b[0m\u001b[0;34m)\u001b[0m\u001b[0;34m\u001b[0m\u001b[0;34m\u001b[0m\u001b[0m\n\u001b[0m\u001b[1;32m   6018\u001b[0m             \u001b[0mindexer\u001b[0m \u001b[0;34m=\u001b[0m \u001b[0mindexer\u001b[0m\u001b[0;34m[\u001b[0m\u001b[0;34m~\u001b[0m\u001b[0mmask\u001b[0m\u001b[0;34m]\u001b[0m\u001b[0;34m\u001b[0m\u001b[0;34m\u001b[0m\u001b[0m\n\u001b[1;32m   6019\u001b[0m         \u001b[0;32mreturn\u001b[0m \u001b[0mself\u001b[0m\u001b[0;34m.\u001b[0m\u001b[0mdelete\u001b[0m\u001b[0;34m(\u001b[0m\u001b[0mindexer\u001b[0m\u001b[0;34m)\u001b[0m\u001b[0;34m\u001b[0m\u001b[0;34m\u001b[0m\u001b[0m\n",
            "\u001b[0;31mKeyError\u001b[0m: \"['prediction'] not found in axis\""
          ]
        }
      ]
    },
    {
      "cell_type": "code",
      "source": [
        "data_scale_output = data_scale_output.toPandas()\n",
        "from sklearn.cluster import KMeans\n",
        "Sum_of_squared_distances = []\n",
        "K = range(1,15)\n",
        "for k in K:\n",
        "  clusterer = KMeans(n_clusters=K)\n",
        "  clusterer.fit()\n",
        "  inertia = clusterer.inertia_"
      ],
      "metadata": {
        "colab": {
          "base_uri": "https://localhost:8080/",
          "height": 449
        },
        "id": "9RpdrxRXdd7j",
        "outputId": "0202e401-d68b-4745-b126-4d5ae8b717b1"
      },
      "execution_count": null,
      "outputs": [
        {
          "output_type": "stream",
          "name": "stderr",
          "text": [
            "Exception ignored in: <function JavaWrapper.__del__ at 0x7f1f960555e0>\n",
            "Traceback (most recent call last):\n",
            "  File \"/content/spark-3.0.0-bin-hadoop3.2/python/pyspark/ml/wrapper.py\", line 42, in __del__\n",
            "    if SparkContext._active_spark_context and self._java_obj is not None:\n",
            "AttributeError: 'KMeans' object has no attribute '_java_obj'\n"
          ]
        },
        {
          "output_type": "error",
          "ename": "ValueError",
          "evalue": "ignored",
          "traceback": [
            "\u001b[0;31m---------------------------------------------------------------------------\u001b[0m",
            "\u001b[0;31mValueError\u001b[0m                                Traceback (most recent call last)",
            "\u001b[0;32m<ipython-input-127-e5e6fee057e1>\u001b[0m in \u001b[0;36m<module>\u001b[0;34m\u001b[0m\n\u001b[1;32m      5\u001b[0m \u001b[0;32mfor\u001b[0m \u001b[0mk\u001b[0m \u001b[0;32min\u001b[0m \u001b[0mK\u001b[0m\u001b[0;34m:\u001b[0m\u001b[0;34m\u001b[0m\u001b[0;34m\u001b[0m\u001b[0m\n\u001b[1;32m      6\u001b[0m   \u001b[0mclusterer\u001b[0m \u001b[0;34m=\u001b[0m \u001b[0mKMeans\u001b[0m\u001b[0;34m(\u001b[0m\u001b[0mn_clusters\u001b[0m\u001b[0;34m=\u001b[0m\u001b[0mK\u001b[0m\u001b[0;34m)\u001b[0m\u001b[0;34m\u001b[0m\u001b[0;34m\u001b[0m\u001b[0m\n\u001b[0;32m----> 7\u001b[0;31m   \u001b[0mclusterer\u001b[0m\u001b[0;34m.\u001b[0m\u001b[0mfit\u001b[0m\u001b[0;34m(\u001b[0m\u001b[0mdata_scale_output\u001b[0m\u001b[0;34m)\u001b[0m\u001b[0;34m\u001b[0m\u001b[0;34m\u001b[0m\u001b[0m\n\u001b[0m\u001b[1;32m      8\u001b[0m   \u001b[0minertia\u001b[0m \u001b[0;34m=\u001b[0m \u001b[0mclusterer\u001b[0m\u001b[0;34m.\u001b[0m\u001b[0minertia_\u001b[0m\u001b[0;34m\u001b[0m\u001b[0;34m\u001b[0m\u001b[0m\n",
            "\u001b[0;32m/usr/local/lib/python3.8/dist-packages/sklearn/cluster/_kmeans.py\u001b[0m in \u001b[0;36mfit\u001b[0;34m(self, X, y, sample_weight)\u001b[0m\n\u001b[1;32m   1135\u001b[0m             \u001b[0mFitted\u001b[0m \u001b[0mestimator\u001b[0m\u001b[0;34m.\u001b[0m\u001b[0;34m\u001b[0m\u001b[0;34m\u001b[0m\u001b[0m\n\u001b[1;32m   1136\u001b[0m         \"\"\"\n\u001b[0;32m-> 1137\u001b[0;31m         X = self._validate_data(\n\u001b[0m\u001b[1;32m   1138\u001b[0m             \u001b[0mX\u001b[0m\u001b[0;34m,\u001b[0m\u001b[0;34m\u001b[0m\u001b[0;34m\u001b[0m\u001b[0m\n\u001b[1;32m   1139\u001b[0m             \u001b[0maccept_sparse\u001b[0m\u001b[0;34m=\u001b[0m\u001b[0;34m\"csr\"\u001b[0m\u001b[0;34m,\u001b[0m\u001b[0;34m\u001b[0m\u001b[0;34m\u001b[0m\u001b[0m\n",
            "\u001b[0;32m/usr/local/lib/python3.8/dist-packages/sklearn/base.py\u001b[0m in \u001b[0;36m_validate_data\u001b[0;34m(self, X, y, reset, validate_separately, **check_params)\u001b[0m\n\u001b[1;32m    564\u001b[0m             \u001b[0;32mraise\u001b[0m \u001b[0mValueError\u001b[0m\u001b[0;34m(\u001b[0m\u001b[0;34m\"Validation should be done on X, y or both.\"\u001b[0m\u001b[0;34m)\u001b[0m\u001b[0;34m\u001b[0m\u001b[0;34m\u001b[0m\u001b[0m\n\u001b[1;32m    565\u001b[0m         \u001b[0;32melif\u001b[0m \u001b[0;32mnot\u001b[0m \u001b[0mno_val_X\u001b[0m \u001b[0;32mand\u001b[0m \u001b[0mno_val_y\u001b[0m\u001b[0;34m:\u001b[0m\u001b[0;34m\u001b[0m\u001b[0;34m\u001b[0m\u001b[0m\n\u001b[0;32m--> 566\u001b[0;31m             \u001b[0mX\u001b[0m \u001b[0;34m=\u001b[0m \u001b[0mcheck_array\u001b[0m\u001b[0;34m(\u001b[0m\u001b[0mX\u001b[0m\u001b[0;34m,\u001b[0m \u001b[0;34m**\u001b[0m\u001b[0mcheck_params\u001b[0m\u001b[0;34m)\u001b[0m\u001b[0;34m\u001b[0m\u001b[0;34m\u001b[0m\u001b[0m\n\u001b[0m\u001b[1;32m    567\u001b[0m             \u001b[0mout\u001b[0m \u001b[0;34m=\u001b[0m \u001b[0mX\u001b[0m\u001b[0;34m\u001b[0m\u001b[0;34m\u001b[0m\u001b[0m\n\u001b[1;32m    568\u001b[0m         \u001b[0;32melif\u001b[0m \u001b[0mno_val_X\u001b[0m \u001b[0;32mand\u001b[0m \u001b[0;32mnot\u001b[0m \u001b[0mno_val_y\u001b[0m\u001b[0;34m:\u001b[0m\u001b[0;34m\u001b[0m\u001b[0;34m\u001b[0m\u001b[0m\n",
            "\u001b[0;32m/usr/local/lib/python3.8/dist-packages/sklearn/utils/validation.py\u001b[0m in \u001b[0;36mcheck_array\u001b[0;34m(array, accept_sparse, accept_large_sparse, dtype, order, copy, force_all_finite, ensure_2d, allow_nd, ensure_min_samples, ensure_min_features, estimator)\u001b[0m\n\u001b[1;32m    744\u001b[0m                     \u001b[0marray\u001b[0m \u001b[0;34m=\u001b[0m \u001b[0marray\u001b[0m\u001b[0;34m.\u001b[0m\u001b[0mastype\u001b[0m\u001b[0;34m(\u001b[0m\u001b[0mdtype\u001b[0m\u001b[0;34m,\u001b[0m \u001b[0mcasting\u001b[0m\u001b[0;34m=\u001b[0m\u001b[0;34m\"unsafe\"\u001b[0m\u001b[0;34m,\u001b[0m \u001b[0mcopy\u001b[0m\u001b[0;34m=\u001b[0m\u001b[0;32mFalse\u001b[0m\u001b[0;34m)\u001b[0m\u001b[0;34m\u001b[0m\u001b[0;34m\u001b[0m\u001b[0m\n\u001b[1;32m    745\u001b[0m                 \u001b[0;32melse\u001b[0m\u001b[0;34m:\u001b[0m\u001b[0;34m\u001b[0m\u001b[0;34m\u001b[0m\u001b[0m\n\u001b[0;32m--> 746\u001b[0;31m                     \u001b[0marray\u001b[0m \u001b[0;34m=\u001b[0m \u001b[0mnp\u001b[0m\u001b[0;34m.\u001b[0m\u001b[0masarray\u001b[0m\u001b[0;34m(\u001b[0m\u001b[0marray\u001b[0m\u001b[0;34m,\u001b[0m \u001b[0morder\u001b[0m\u001b[0;34m=\u001b[0m\u001b[0morder\u001b[0m\u001b[0;34m,\u001b[0m \u001b[0mdtype\u001b[0m\u001b[0;34m=\u001b[0m\u001b[0mdtype\u001b[0m\u001b[0;34m)\u001b[0m\u001b[0;34m\u001b[0m\u001b[0;34m\u001b[0m\u001b[0m\n\u001b[0m\u001b[1;32m    747\u001b[0m             \u001b[0;32mexcept\u001b[0m \u001b[0mComplexWarning\u001b[0m \u001b[0;32mas\u001b[0m \u001b[0mcomplex_warning\u001b[0m\u001b[0;34m:\u001b[0m\u001b[0;34m\u001b[0m\u001b[0;34m\u001b[0m\u001b[0m\n\u001b[1;32m    748\u001b[0m                 raise ValueError(\n",
            "\u001b[0;32m/usr/local/lib/python3.8/dist-packages/pandas/core/generic.py\u001b[0m in \u001b[0;36m__array__\u001b[0;34m(self, dtype)\u001b[0m\n\u001b[1;32m   1991\u001b[0m \u001b[0;34m\u001b[0m\u001b[0m\n\u001b[1;32m   1992\u001b[0m     \u001b[0;32mdef\u001b[0m \u001b[0m__array__\u001b[0m\u001b[0;34m(\u001b[0m\u001b[0mself\u001b[0m\u001b[0;34m,\u001b[0m \u001b[0mdtype\u001b[0m\u001b[0;34m:\u001b[0m \u001b[0mNpDtype\u001b[0m \u001b[0;34m|\u001b[0m \u001b[0;32mNone\u001b[0m \u001b[0;34m=\u001b[0m \u001b[0;32mNone\u001b[0m\u001b[0;34m)\u001b[0m \u001b[0;34m->\u001b[0m \u001b[0mnp\u001b[0m\u001b[0;34m.\u001b[0m\u001b[0mndarray\u001b[0m\u001b[0;34m:\u001b[0m\u001b[0;34m\u001b[0m\u001b[0;34m\u001b[0m\u001b[0m\n\u001b[0;32m-> 1993\u001b[0;31m         \u001b[0;32mreturn\u001b[0m \u001b[0mnp\u001b[0m\u001b[0;34m.\u001b[0m\u001b[0masarray\u001b[0m\u001b[0;34m(\u001b[0m\u001b[0mself\u001b[0m\u001b[0;34m.\u001b[0m\u001b[0m_values\u001b[0m\u001b[0;34m,\u001b[0m \u001b[0mdtype\u001b[0m\u001b[0;34m=\u001b[0m\u001b[0mdtype\u001b[0m\u001b[0;34m)\u001b[0m\u001b[0;34m\u001b[0m\u001b[0;34m\u001b[0m\u001b[0m\n\u001b[0m\u001b[1;32m   1994\u001b[0m \u001b[0;34m\u001b[0m\u001b[0m\n\u001b[1;32m   1995\u001b[0m     def __array_wrap__(\n",
            "\u001b[0;31mValueError\u001b[0m: could not convert string to float: 'CA-2012-124891'"
          ]
        }
      ]
    }
  ]
}